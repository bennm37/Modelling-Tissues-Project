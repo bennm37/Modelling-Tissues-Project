{
 "cells": [
  {
   "cell_type": "markdown",
   "metadata": {},
   "source": [
    "# Active Brownian Particle Write Up \n"
   ]
  },
  {
   "cell_type": "markdown",
   "metadata": {},
   "source": [
    "We will use the equations of motion\n",
    " $$\\dot{r_i}=v_0\\hat{m}+\\sum_{i}{F_{ij}}$$\n",
    " $$\\dot{\\theta}=\\sqrt{2\\pi D_r}\\eta(t)$$ \n",
    " to update our particles positions so they move with brownian motion, a close distance repulsion force and a mid distance cohesion force determined by the interaction forces $F_{ij}$. $\\eta$ is a uncorrelated and unbiased white noise and $D_r$ is a constant that determines the rate of angular diffusion. To calculate this we will discretise $\\eta(t)$ and approximate it $\\eta_n =\\eta_{n-1}+Y_n$ where $Y_n$ is a normally distributed RV with mean 0 and variance $D_r$. \n",
    "\n"
   ]
  },
  {
   "cell_type": "code",
   "execution_count": 1,
   "metadata": {},
   "outputs": [],
   "source": [
    "from abp import *\n",
    "import time"
   ]
  },
  {
   "cell_type": "markdown",
   "metadata": {},
   "source": [
    "##STRESS TESTING\n",
    "def data_generation_runtime(N,T):\n",
    "    abp = ABP(N)\n",
    "    start = time.time()\n",
    "    r,d,v = abp.generate_movement_data(T,0.05)\n",
    "    end = time.time()\n",
    "    return end-start\n",
    "# Ns = np.array([10,22,48,100,220,480,1000])\n",
    "# Ns = np.linspace(0,10,11,dtype=int)\n",
    "print(Ns)\n",
    "T = 1000\n",
    "runtime_data = np.zeros(Ns.shape)\n",
    "for i,n in enumerate(Ns):\n",
    "    runtime_data[i] = data_generation_runtime(n,T)\n",
    "plt.plot(runtime_data)\n",
    "fig,ax = plt.subplots()\n",
    "ax.set(xlabel=\\\"ylabel=\\\"Runtime in seconds\\\")\n",
    "plt.gca().set_ylim(bottom=0)\n",
    "ax.plot(Ns,runtime_data)"
   ]
  },
  {
   "cell_type": "code",
   "execution_count": null,
   "metadata": {},
   "outputs": [],
   "source": [
    "##STRESS TESTING\n",
    "def data_generation_runtime(N,T):\n",
    "    abp = ABP(N)\n",
    "    start = time.time()\n",
    "    r,d,v = abp.generate_movement_data(T,0.05)\n",
    "    end = time.time()\n",
    "    return end-start\n",
    "# Ns = np.array([10,22,48,100,220,480,1000])\n",
    "# Ns = np.linspace(0,10,11,dtype=int)\n",
    "print(Ns)\n",
    "T = 1000\n",
    "runtime_data = np.zeros(Ns.shape)\n",
    "for i,n in enumerate(Ns):\n",
    "    runtime_data[i] = data_generation_runtime(n,T)\n",
    "plt.plot(runtime_data)\n",
    "fig,ax = plt.subplots()\n",
    "ax.set(xlabel=\"N\",ylabel=\"Runtime in seconds\")\n",
    "plt.gca().set_ylim(bottom=0)\n",
    "ax.plot(Ns,runtime_data)"
   ]
  },
  {
   "cell_type": "markdown",
   "metadata": {},
   "source": [
    "#plotting short_scale_repulsion force\n",
    "def plot_potential(psi= short_scale_repulsion):\n",
    "    num_points = 100 \n",
    "    num_lines = 5\n",
    "    x = np.linspace(0,6,num_points).reshape(num_points,1)\n",
    "    y = np.zeros(num_points).reshape(num_points,1)\n",
    "    coords = np.array([np.append(x,y,axis=1)])\n",
    "    fs = np.zeros((num_lines,num_points))\n",
    "    k_vals = np.linspace(0,5,num_lines)\n",
    "    for i,k in enumerate(k_vals):\n",
    "        fs[i,:] = psi(coords,4,k=k)[0,:]\n",
    "\n",
    "    fig,ax = plt.subplots()\n",
    "    for i in range(num_lines):\n",
    "        plot = ax.plot(x[:,0],fs[i,:])\n",
    "    return plot \n",
    "plot_potential(repulsion_cohesion_potential)"
   ]
  },
  {
   "cell_type": "code",
   "execution_count": 15,
   "metadata": {},
   "outputs": [
    {
     "data": {
      "text/html": [
       "<div>\n",
       "<style scoped>\n",
       "    .dataframe tbody tr th:only-of-type {\n",
       "        vertical-align: middle;\n",
       "    }\n",
       "\n",
       "    .dataframe tbody tr th {\n",
       "        vertical-align: top;\n",
       "    }\n",
       "\n",
       "    .dataframe thead th {\n",
       "        text-align: right;\n",
       "    }\n",
       "</style>\n",
       "<table border=\"1\" class=\"dataframe\">\n",
       "  <thead>\n",
       "    <tr style=\"text-align: right;\">\n",
       "      <th></th>\n",
       "      <th>x1</th>\n",
       "      <th>x2</th>\n",
       "    </tr>\n",
       "  </thead>\n",
       "  <tbody>\n",
       "    <tr>\n",
       "      <th>0</th>\n",
       "      <td>11.109156</td>\n",
       "      <td>13.045107</td>\n",
       "    </tr>\n",
       "    <tr>\n",
       "      <th>1</th>\n",
       "      <td>15.525222</td>\n",
       "      <td>17.862982</td>\n",
       "    </tr>\n",
       "    <tr>\n",
       "      <th>2</th>\n",
       "      <td>16.417464</td>\n",
       "      <td>1.838438</td>\n",
       "    </tr>\n",
       "    <tr>\n",
       "      <th>3</th>\n",
       "      <td>5.262425</td>\n",
       "      <td>17.703455</td>\n",
       "    </tr>\n",
       "    <tr>\n",
       "      <th>4</th>\n",
       "      <td>18.554701</td>\n",
       "      <td>15.138769</td>\n",
       "    </tr>\n",
       "    <tr>\n",
       "      <th>...</th>\n",
       "      <td>...</td>\n",
       "      <td>...</td>\n",
       "    </tr>\n",
       "    <tr>\n",
       "      <th>95</th>\n",
       "      <td>0.740566</td>\n",
       "      <td>14.861812</td>\n",
       "    </tr>\n",
       "    <tr>\n",
       "      <th>96</th>\n",
       "      <td>0.474253</td>\n",
       "      <td>16.898363</td>\n",
       "    </tr>\n",
       "    <tr>\n",
       "      <th>97</th>\n",
       "      <td>9.177239</td>\n",
       "      <td>2.604486</td>\n",
       "    </tr>\n",
       "    <tr>\n",
       "      <th>98</th>\n",
       "      <td>3.687340</td>\n",
       "      <td>3.266548</td>\n",
       "    </tr>\n",
       "    <tr>\n",
       "      <th>99</th>\n",
       "      <td>2.073722</td>\n",
       "      <td>2.691624</td>\n",
       "    </tr>\n",
       "  </tbody>\n",
       "</table>\n",
       "<p>100000 rows × 2 columns</p>\n",
       "</div>"
      ],
      "text/plain": [
       "           x1         x2\n",
       "0   11.109156  13.045107\n",
       "1   15.525222  17.862982\n",
       "2   16.417464   1.838438\n",
       "3    5.262425  17.703455\n",
       "4   18.554701  15.138769\n",
       "..        ...        ...\n",
       "95   0.740566  14.861812\n",
       "96   0.474253  16.898363\n",
       "97   9.177239   2.604486\n",
       "98   3.687340   3.266548\n",
       "99   2.073722   2.691624\n",
       "\n",
       "[100000 rows x 2 columns]"
      ]
     },
     "execution_count": 15,
     "metadata": {},
     "output_type": "execute_result"
    }
   ],
   "source": [
    "df = pd.read_csv(\"data/abp_data__N_100__v_0_0.1__D_0.001__k_1__box_width_22.9/dat_0.csv\")\n",
    "data_name = \"data/abp_data__N_100__v_0_0.1__D_0.001__k_1__box_width_22.9\"\n",
    "# os.listdir(data_name)\n",
    "frames = [pd.read_csv(f\"{data_name}/{filename}\") for filename in os.listdir(data_name)]\n",
    "df = pd.concat(frames)\n"
   ]
  }
 ],
 "metadata": {
  "interpreter": {
   "hash": "4e16c2fbf136a0a7e9a557c49214152196a33a8174e8680502ae75d5c9263abf"
  },
  "kernelspec": {
   "display_name": "Python 3.8.10 64-bit (windows store)",
   "language": "python",
   "name": "python3"
  },
  "language_info": {
   "codemirror_mode": {
    "name": "ipython",
    "version": 3
   },
   "file_extension": ".py",
   "mimetype": "text/x-python",
   "name": "python",
   "nbconvert_exporter": "python",
   "pygments_lexer": "ipython3",
   "version": "3.8.10"
  },
  "orig_nbformat": 4
 },
 "nbformat": 4,
 "nbformat_minor": 2
}
